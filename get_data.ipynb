{
 "cells": [
  {
   "cell_type": "markdown",
   "metadata": {},
   "source": [
    "Imports"
   ]
  },
  {
   "cell_type": "code",
   "execution_count": 1,
   "metadata": {},
   "outputs": [],
   "source": [
    "import numpy as np\n",
    "import requests\n",
    "import json\n",
    "import pandas as pd\n",
    "import csv\n",
    "import config  # file that contains the walkscore api key\n"
   ]
  },
  {
   "cell_type": "markdown",
   "metadata": {},
   "source": [
    "#### Getting Coordinates"
   ]
  },
  {
   "cell_type": "markdown",
   "metadata": {},
   "source": [
    "Establish a max+min longitude and latitude for a grid of coordinates and desired # of points"
   ]
  },
  {
   "cell_type": "code",
   "execution_count": 2,
   "metadata": {},
   "outputs": [],
   "source": [
    "# for UCSB\n",
    "lon_min = -119.889848\n",
    "lon_max = -119.832095\n",
    "lat_min = 34.406985\n",
    "lat_max = 34.429613\n",
    "num_lon_points = 30\n",
    "num_lat_points = 30\n"
   ]
  },
  {
   "cell_type": "markdown",
   "metadata": {},
   "source": [
    "Create grid of lon, lan coordinates"
   ]
  },
  {
   "cell_type": "code",
   "execution_count": 3,
   "metadata": {},
   "outputs": [],
   "source": [
    "lon = np.linspace(lon_min, lon_max, num_lon_points)\n",
    "lat = np.linspace(lat_min, lat_max, num_lat_points)\n",
    "\n",
    "# Save the grid of coordinates to \"grid.csv\"\n",
    "with open(\"Data/grid.csv\", \"w\") as f:\n",
    "    for i in range(len(lon)):\n",
    "      for j in range(len(lat)):\n",
    "        f.write(f\"{lon[i]},{lat[j]}\\n\")\n"
   ]
  },
  {
   "cell_type": "markdown",
   "metadata": {},
   "source": [
    "#### Getting Walkscores"
   ]
  },
  {
   "cell_type": "markdown",
   "metadata": {},
   "source": [
    "Load data from csv"
   ]
  },
  {
   "cell_type": "code",
   "execution_count": null,
   "metadata": {},
   "outputs": [],
   "source": [
    "# load excel .csv with long, lat points into pd dataframe\n",
    "coordinate_df = pd.read_csv('grid.csv')\n",
    "\n",
    "# convert pd dataframe into python dictionary, with coordinates as keys\n",
    "coordinate_list = coordinate_df.values.tolist()\n",
    "\n",
    "walkscore_csv = []\n",
    "points_w_error = []\n"
   ]
  },
  {
   "cell_type": "markdown",
   "metadata": {},
   "source": [
    "Generate walkscore values for each coordinate point provided"
   ]
  },
  {
   "cell_type": "code",
   "execution_count": null,
   "metadata": {},
   "outputs": [],
   "source": [
    "# iterate through coordinate_list (list of lists)\n",
    "# coordinate_list[i] = [lon, lat, walkscore]\n",
    "for i in range(len(coordinate_list)): # range(len(coordinate_list)):\n",
    "  try:\n",
    "  # api call to walkscore using lon and lat parameters\n",
    "    url = f\"https://api.walkscore.com/score?format=json&lat={coordinate_list[i][1]}&lon={coordinate_list[i][0]}&wsapikey={config.api_key}\"\n",
    "    response = requests.get(url)\n",
    "    # json_response  = json.loads(response.content['walkscore'])\n",
    "    lat = coordinate_list[i][1]\n",
    "    lon = coordinate_list[i][0]\n",
    "    json_response = json.loads(response.content)\n",
    "    # print(json_response['walkscore'])\n",
    "    walkscore = json_response['walkscore']\n",
    "    print((lon, lat, walkscore))\n",
    "    # add to list that will be exported into .csv\n",
    "    walkscore_csv.append([lon, lat, walkscore])\n",
    "  # make exception that records all the points that give an error.\n",
    "  except KeyError:\n",
    "    # if an error is encountered for point(s), generate a csv of those points\n",
    "    # so you can generate walkscores for those\n",
    "    print((coordinate_list[i][0], coordinate_list[i][1], \"error\"))\n",
    "    walkscore_csv.append([coordinate_list[i][0], coordinate_list[i][1], \"error\"])\n",
    "    points_w_error.append([coordinate_list[i][0], coordinate_list[i][1]])\n",
    "print(\"Done! Check output for any errors\")\n"
   ]
  },
  {
   "cell_type": "markdown",
   "metadata": {},
   "source": [
    "Exporting .csv's"
   ]
  },
  {
   "cell_type": "code",
   "execution_count": null,
   "metadata": {},
   "outputs": [],
   "source": [
    "# export list of points that return errors\n",
    "with open('errors.csv', 'w', newline='') as csvfile:\n",
    "  writer = csv.writer(csvfile)\n",
    "  writer.writerow(['Longitude', 'Latitude', 'Walkscore'])\n",
    "  for i in range(len(points_w_error)):\n",
    "    writer.writerow([points_w_error[i][0], points_w_error[i][1]])\n",
    "\n",
    "# export lon, lat, walkscore into csv for importing into arcgis\n",
    "with open('walkscore_csv_export.csv', 'w', newline='') as csvfile:\n",
    "  writer = csv.writer(csvfile)\n",
    "  writer.writerow(['Longitude', 'Latitude', 'Walkscore'])\n",
    "  for i in range(len(walkscore_csv)):\n",
    "    writer.writerow([walkscore_csv[i][0], walkscore_csv[i][1], walkscore_csv[i][2]])\n"
   ]
  }
 ],
 "metadata": {
  "kernelspec": {
   "display_name": "base",
   "language": "python",
   "name": "python3"
  },
  "language_info": {
   "codemirror_mode": {
    "name": "ipython",
    "version": 3
   },
   "file_extension": ".py",
   "mimetype": "text/x-python",
   "name": "python",
   "nbconvert_exporter": "python",
   "pygments_lexer": "ipython3",
   "version": "3.11.5"
  }
 },
 "nbformat": 4,
 "nbformat_minor": 2
}
